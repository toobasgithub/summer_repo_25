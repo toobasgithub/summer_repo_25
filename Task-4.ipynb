{
 "cells": [
  {
   "cell_type": "code",
   "execution_count": 135,
   "id": "aab9ff1a",
   "metadata": {},
   "outputs": [
    {
     "name": "stdout",
     "output_type": "stream",
     "text": [
      "Requirement already satisfied: pandas in c:\\users\\hp\\appdata\\local\\packages\\pythonsoftwarefoundation.python.3.11_qbz5n2kfra8p0\\localcache\\local-packages\\python311\\site-packages (2.3.0)\n",
      "Requirement already satisfied: numpy in c:\\users\\hp\\appdata\\local\\packages\\pythonsoftwarefoundation.python.3.11_qbz5n2kfra8p0\\localcache\\local-packages\\python311\\site-packages (2.3.1)\n",
      "Requirement already satisfied: matplotlib in c:\\users\\hp\\appdata\\local\\packages\\pythonsoftwarefoundation.python.3.11_qbz5n2kfra8p0\\localcache\\local-packages\\python311\\site-packages (3.10.3)\n",
      "Requirement already satisfied: seaborn in c:\\users\\hp\\appdata\\local\\packages\\pythonsoftwarefoundation.python.3.11_qbz5n2kfra8p0\\localcache\\local-packages\\python311\\site-packages (0.13.2)\n",
      "Requirement already satisfied: plotly in c:\\users\\hp\\appdata\\local\\packages\\pythonsoftwarefoundation.python.3.11_qbz5n2kfra8p0\\localcache\\local-packages\\python311\\site-packages (6.2.0)\n",
      "Requirement already satisfied: python-dateutil>=2.8.2 in c:\\users\\hp\\appdata\\local\\packages\\pythonsoftwarefoundation.python.3.11_qbz5n2kfra8p0\\localcache\\local-packages\\python311\\site-packages (from pandas) (2.9.0.post0)\n",
      "Requirement already satisfied: pytz>=2020.1 in c:\\users\\hp\\appdata\\local\\packages\\pythonsoftwarefoundation.python.3.11_qbz5n2kfra8p0\\localcache\\local-packages\\python311\\site-packages (from pandas) (2025.2)\n",
      "Requirement already satisfied: tzdata>=2022.7 in c:\\users\\hp\\appdata\\local\\packages\\pythonsoftwarefoundation.python.3.11_qbz5n2kfra8p0\\localcache\\local-packages\\python311\\site-packages (from pandas) (2025.2)\n",
      "Requirement already satisfied: contourpy>=1.0.1 in c:\\users\\hp\\appdata\\local\\packages\\pythonsoftwarefoundation.python.3.11_qbz5n2kfra8p0\\localcache\\local-packages\\python311\\site-packages (from matplotlib) (1.3.2)\n",
      "Requirement already satisfied: cycler>=0.10 in c:\\users\\hp\\appdata\\local\\packages\\pythonsoftwarefoundation.python.3.11_qbz5n2kfra8p0\\localcache\\local-packages\\python311\\site-packages (from matplotlib) (0.12.1)\n",
      "Requirement already satisfied: fonttools>=4.22.0 in c:\\users\\hp\\appdata\\local\\packages\\pythonsoftwarefoundation.python.3.11_qbz5n2kfra8p0\\localcache\\local-packages\\python311\\site-packages (from matplotlib) (4.58.4)\n",
      "Requirement already satisfied: kiwisolver>=1.3.1 in c:\\users\\hp\\appdata\\local\\packages\\pythonsoftwarefoundation.python.3.11_qbz5n2kfra8p0\\localcache\\local-packages\\python311\\site-packages (from matplotlib) (1.4.8)\n",
      "Requirement already satisfied: packaging>=20.0 in c:\\users\\hp\\appdata\\local\\packages\\pythonsoftwarefoundation.python.3.11_qbz5n2kfra8p0\\localcache\\local-packages\\python311\\site-packages (from matplotlib) (25.0)\n",
      "Requirement already satisfied: pillow>=8 in c:\\users\\hp\\appdata\\local\\packages\\pythonsoftwarefoundation.python.3.11_qbz5n2kfra8p0\\localcache\\local-packages\\python311\\site-packages (from matplotlib) (11.2.1)\n",
      "Requirement already satisfied: pyparsing>=2.3.1 in c:\\users\\hp\\appdata\\local\\packages\\pythonsoftwarefoundation.python.3.11_qbz5n2kfra8p0\\localcache\\local-packages\\python311\\site-packages (from matplotlib) (3.2.3)\n",
      "Requirement already satisfied: narwhals>=1.15.1 in c:\\users\\hp\\appdata\\local\\packages\\pythonsoftwarefoundation.python.3.11_qbz5n2kfra8p0\\localcache\\local-packages\\python311\\site-packages (from plotly) (1.44.0)\n",
      "Requirement already satisfied: six>=1.5 in c:\\users\\hp\\appdata\\local\\packages\\pythonsoftwarefoundation.python.3.11_qbz5n2kfra8p0\\localcache\\local-packages\\python311\\site-packages (from python-dateutil>=2.8.2->pandas) (1.17.0)\n",
      "Note: you may need to restart the kernel to use updated packages.\n"
     ]
    },
    {
     "name": "stderr",
     "output_type": "stream",
     "text": [
      "\n",
      "[notice] A new release of pip is available: 24.0 -> 25.1.1\n",
      "[notice] To update, run: C:\\Users\\hp\\AppData\\Local\\Microsoft\\WindowsApps\\PythonSoftwareFoundation.Python.3.11_qbz5n2kfra8p0\\python.exe -m pip install --upgrade pip\n"
     ]
    }
   ],
   "source": [
    "%pip install pandas numpy matplotlib seaborn plotly"
   ]
  },
  {
   "cell_type": "markdown",
   "id": "c48488d0",
   "metadata": {},
   "source": [
    "# Step 1: Load the Dataset"
   ]
  },
  {
   "cell_type": "code",
   "execution_count": 136,
   "id": "16f49374",
   "metadata": {},
   "outputs": [
    {
     "name": "stdout",
     "output_type": "stream",
     "text": [
      "    Metabolite Condition  Replicate  Concentration Units\n",
      "0  Metabolite1   Control          1      80.281301    μM\n",
      "1  Metabolite1   Control          2      84.658008    μM\n",
      "2  Metabolite1   Control          3      75.872092    μM\n",
      "3  Metabolite1   Control          4      75.872174    μM\n",
      "4  Metabolite1   Control          5      84.938922    μM\n"
     ]
    }
   ],
   "source": [
    "import pandas as pd\n",
    "# Function to load data\n",
    "def load_data(file_path):\n",
    "    # Load dataset from a CSV file\n",
    "    df = pd.read_csv(file_path)\n",
    "    return df\n",
    "# Load data\n",
    "df = load_data('C:/Users/hp/Desktop/python scripting for bioinformatics/metabolic_dataset.csv')\n",
    "# Print first few rows\n",
    "print(df.head())"
   ]
  },
  {
   "cell_type": "markdown",
   "id": "7248d0a7",
   "metadata": {},
   "source": [
    "# Step 2: Handle Missing Values"
   ]
  },
  {
   "cell_type": "markdown",
   "id": "6978feb8",
   "metadata": {},
   "source": [
    "# Step 3: Fill missing values with median concentration for each Metabolite and Condition"
   ]
  },
  {
   "cell_type": "code",
   "execution_count": 137,
   "id": "41d6b35b",
   "metadata": {},
   "outputs": [
    {
     "name": "stdout",
     "output_type": "stream",
     "text": [
      "Missing values before filling: 5\n",
      "Missing values have been filled with the median of their respective group.\n",
      "Missing values after filling: 0\n"
     ]
    }
   ],
   "source": [
    "def handle_missing_values(df):\n",
    "    \"\"\"\n",
    "    first print missing values count then fill them.\n",
    "    \"\"\"\n",
    "    print(f\"Missing values before filling: {df['Concentration'].isna().sum()}\")\n",
    "    df['Concentration'] = df.groupby(['Metabolite', 'Condition'])['Concentration'].transform(lambda x: x.fillna(x.median()))\n",
    "    print(\"Missing values have been filled with the median of their respective group.\")\n",
    "    print(f\"Missing values after filling: {df['Concentration'].isna().sum()}\")\n",
    "    return df\n",
    "# Function call\n",
    "df = handle_missing_values(df)"
   ]
  },
  {
   "cell_type": "markdown",
   "id": "b43c12e3",
   "metadata": {},
   "source": [
    "# Step 4: Standardize Units"
   ]
  },
  {
   "cell_type": "code",
   "execution_count": 147,
   "id": "c4ac5d5b",
   "metadata": {},
   "outputs": [
    {
     "name": "stdout",
     "output_type": "stream",
     "text": [
      "Units have been successfully converted to 'μM'.\n"
     ]
    }
   ],
   "source": [
    "# Function to standardize units\n",
    "def standardize_units(df):\n",
    "    \"\"\"\n",
    "    Standardize units to μM.\n",
    "    \"\"\"\n",
    "    df.loc[df['Units'] == 'mM', 'Concentration'] *= 1000\n",
    "    df.loc[df['Units'] == 'mM', 'Units'] = 'μM'\n",
    "    print(\"Units have been successfully converted to 'μM'.\")\n",
    "    return df\n",
    "df = standardize_units(df)"
   ]
  },
  {
   "cell_type": "code",
   "execution_count": 148,
   "id": "61c342ac",
   "metadata": {},
   "outputs": [
    {
     "name": "stdout",
     "output_type": "stream",
     "text": [
      "['μM']\n"
     ]
    }
   ],
   "source": [
    "# Check if all units have been converted to 'μM'\n",
    "print(df['Units'].unique())"
   ]
  },
  {
   "cell_type": "markdown",
   "id": "48664195",
   "metadata": {},
   "source": [
    "# Step 5: Identify and Handle Outliers"
   ]
  },
  {
   "cell_type": "code",
   "execution_count": 140,
   "id": "b7d1875e",
   "metadata": {},
   "outputs": [
    {
     "name": "stdout",
     "output_type": "stream",
     "text": [
      "Outliers found: 17\n",
      "Outliers have been replaced with the median of their group.\n"
     ]
    }
   ],
   "source": [
    "def detect_and_replace_outliers(df):\n",
    "    \"\"\"Detects and replaces outliers with the group median.\"\"\"\n",
    "    Q1 = df.groupby(['Metabolite', 'Condition'])['Concentration'].transform(lambda x: x.quantile(0.25))\n",
    "    Q3 = df.groupby(['Metabolite', 'Condition'])['Concentration'].transform(lambda x: x.quantile(0.75))\n",
    "    IQR = Q3 - Q1\n",
    "    outlier_mask = (df['Concentration'] < (Q1 - 1.5 * IQR)) | (df['Concentration'] > (Q3 + 1.5 * IQR))\n",
    "    print(f\"Outliers found: {outlier_mask.sum()}\")\n",
    "    # Replace outliers\n",
    "    # Note: It's better to calculate median once\n",
    "    group_median = df.groupby(['Metabolite', 'Condition'])['Concentration'].transform('median')\n",
    "    df.loc[outlier_mask, 'Concentration'] = group_median[outlier_mask]\n",
    "    print(\"Outliers have been replaced with the median of their group.\")\n",
    "    return df\n",
    "# Then call the function\n",
    "df = detect_and_replace_outliers(df)"
   ]
  },
  {
   "cell_type": "markdown",
   "id": "48b1fac3",
   "metadata": {},
   "source": [
    "# Step 6: Calculate Summary Statistics"
   ]
  },
  {
   "cell_type": "code",
   "execution_count": 141,
   "id": "bf1a4c4d",
   "metadata": {},
   "outputs": [
    {
     "data": {
      "text/html": [
       "<div>\n",
       "<style scoped>\n",
       "    .dataframe tbody tr th:only-of-type {\n",
       "        vertical-align: middle;\n",
       "    }\n",
       "\n",
       "    .dataframe tbody tr th {\n",
       "        vertical-align: top;\n",
       "    }\n",
       "\n",
       "    .dataframe thead th {\n",
       "        text-align: right;\n",
       "    }\n",
       "</style>\n",
       "<table border=\"1\" class=\"dataframe\">\n",
       "  <thead>\n",
       "    <tr style=\"text-align: right;\">\n",
       "      <th></th>\n",
       "      <th></th>\n",
       "      <th>mean</th>\n",
       "      <th>median</th>\n",
       "      <th>std</th>\n",
       "    </tr>\n",
       "    <tr>\n",
       "      <th>Metabolite</th>\n",
       "      <th>Condition</th>\n",
       "      <th></th>\n",
       "      <th></th>\n",
       "      <th></th>\n",
       "    </tr>\n",
       "  </thead>\n",
       "  <tbody>\n",
       "    <tr>\n",
       "      <th rowspan=\"2\" valign=\"top\">Metabolite1</th>\n",
       "      <th>Control</th>\n",
       "      <td>80.324499</td>\n",
       "      <td>80.281301</td>\n",
       "      <td>4.464336</td>\n",
       "    </tr>\n",
       "    <tr>\n",
       "      <th>Treatment</th>\n",
       "      <td>74.719990</td>\n",
       "      <td>74.719990</td>\n",
       "      <td>0.004087</td>\n",
       "    </tr>\n",
       "    <tr>\n",
       "      <th rowspan=\"2\" valign=\"top\">Metabolite10</th>\n",
       "      <th>Control</th>\n",
       "      <td>62.371444</td>\n",
       "      <td>62.048568</td>\n",
       "      <td>0.659852</td>\n",
       "    </tr>\n",
       "    <tr>\n",
       "      <th>Treatment</th>\n",
       "      <td>82.186189</td>\n",
       "      <td>82.007579</td>\n",
       "      <td>0.906722</td>\n",
       "    </tr>\n",
       "    <tr>\n",
       "      <th rowspan=\"2\" valign=\"top\">Metabolite2</th>\n",
       "      <th>Control</th>\n",
       "      <td>47.547589</td>\n",
       "      <td>47.547589</td>\n",
       "      <td>0.796456</td>\n",
       "    </tr>\n",
       "    <tr>\n",
       "      <th>Treatment</th>\n",
       "      <td>49.955735</td>\n",
       "      <td>50.356504</td>\n",
       "      <td>6.000106</td>\n",
       "    </tr>\n",
       "    <tr>\n",
       "      <th rowspan=\"2\" valign=\"top\">Metabolite3</th>\n",
       "      <th>Control</th>\n",
       "      <td>20.091708</td>\n",
       "      <td>19.783831</td>\n",
       "      <td>0.691423</td>\n",
       "    </tr>\n",
       "    <tr>\n",
       "      <th>Treatment</th>\n",
       "      <td>43.169796</td>\n",
       "      <td>42.719539</td>\n",
       "      <td>6.465101</td>\n",
       "    </tr>\n",
       "    <tr>\n",
       "      <th rowspan=\"2\" valign=\"top\">Metabolite4</th>\n",
       "      <th>Control</th>\n",
       "      <td>51.799399</td>\n",
       "      <td>52.060923</td>\n",
       "      <td>0.658357</td>\n",
       "    </tr>\n",
       "    <tr>\n",
       "      <th>Treatment</th>\n",
       "      <td>48.801217</td>\n",
       "      <td>48.900887</td>\n",
       "      <td>0.752712</td>\n",
       "    </tr>\n",
       "    <tr>\n",
       "      <th rowspan=\"2\" valign=\"top\">Metabolite5</th>\n",
       "      <th>Control</th>\n",
       "      <td>53.466520</td>\n",
       "      <td>54.182185</td>\n",
       "      <td>3.522192</td>\n",
       "    </tr>\n",
       "    <tr>\n",
       "      <th>Treatment</th>\n",
       "      <td>53.651424</td>\n",
       "      <td>54.218082</td>\n",
       "      <td>3.945831</td>\n",
       "    </tr>\n",
       "    <tr>\n",
       "      <th rowspan=\"2\" valign=\"top\">Metabolite6</th>\n",
       "      <th>Control</th>\n",
       "      <td>23.607715</td>\n",
       "      <td>23.453450</td>\n",
       "      <td>5.674057</td>\n",
       "    </tr>\n",
       "    <tr>\n",
       "      <th>Treatment</th>\n",
       "      <td>27.439738</td>\n",
       "      <td>25.621681</td>\n",
       "      <td>2.663273</td>\n",
       "    </tr>\n",
       "    <tr>\n",
       "      <th rowspan=\"2\" valign=\"top\">Metabolite7</th>\n",
       "      <th>Control</th>\n",
       "      <td>108.053252</td>\n",
       "      <td>150.000000</td>\n",
       "      <td>57.759273</td>\n",
       "    </tr>\n",
       "    <tr>\n",
       "      <th>Treatment</th>\n",
       "      <td>29.384347</td>\n",
       "      <td>29.971337</td>\n",
       "      <td>1.662052</td>\n",
       "    </tr>\n",
       "    <tr>\n",
       "      <th rowspan=\"2\" valign=\"top\">Metabolite8</th>\n",
       "      <th>Control</th>\n",
       "      <td>24.466194</td>\n",
       "      <td>24.186280</td>\n",
       "      <td>3.404304</td>\n",
       "    </tr>\n",
       "    <tr>\n",
       "      <th>Treatment</th>\n",
       "      <td>25.168069</td>\n",
       "      <td>25.104182</td>\n",
       "      <td>3.308173</td>\n",
       "    </tr>\n",
       "    <tr>\n",
       "      <th rowspan=\"2\" valign=\"top\">Metabolite9</th>\n",
       "      <th>Control</th>\n",
       "      <td>46.215224</td>\n",
       "      <td>46.931744</td>\n",
       "      <td>1.144872</td>\n",
       "    </tr>\n",
       "    <tr>\n",
       "      <th>Treatment</th>\n",
       "      <td>43.556830</td>\n",
       "      <td>43.912895</td>\n",
       "      <td>1.185409</td>\n",
       "    </tr>\n",
       "  </tbody>\n",
       "</table>\n",
       "</div>"
      ],
      "text/plain": [
       "                              mean      median        std\n",
       "Metabolite   Condition                                   \n",
       "Metabolite1  Control     80.324499   80.281301   4.464336\n",
       "             Treatment   74.719990   74.719990   0.004087\n",
       "Metabolite10 Control     62.371444   62.048568   0.659852\n",
       "             Treatment   82.186189   82.007579   0.906722\n",
       "Metabolite2  Control     47.547589   47.547589   0.796456\n",
       "             Treatment   49.955735   50.356504   6.000106\n",
       "Metabolite3  Control     20.091708   19.783831   0.691423\n",
       "             Treatment   43.169796   42.719539   6.465101\n",
       "Metabolite4  Control     51.799399   52.060923   0.658357\n",
       "             Treatment   48.801217   48.900887   0.752712\n",
       "Metabolite5  Control     53.466520   54.182185   3.522192\n",
       "             Treatment   53.651424   54.218082   3.945831\n",
       "Metabolite6  Control     23.607715   23.453450   5.674057\n",
       "             Treatment   27.439738   25.621681   2.663273\n",
       "Metabolite7  Control    108.053252  150.000000  57.759273\n",
       "             Treatment   29.384347   29.971337   1.662052\n",
       "Metabolite8  Control     24.466194   24.186280   3.404304\n",
       "             Treatment   25.168069   25.104182   3.308173\n",
       "Metabolite9  Control     46.215224   46.931744   1.144872\n",
       "             Treatment   43.556830   43.912895   1.185409"
      ]
     },
     "execution_count": 141,
     "metadata": {},
     "output_type": "execute_result"
    }
   ],
   "source": [
    "# Function to compute summary statistics\n",
    "def compute_summary_stats(df):\n",
    "    # Compute mean, median, and standard deviation for each Metabolite under each Condition\n",
    "    summary_stats = df.groupby(['Metabolite', 'Condition'])['Concentration'].agg(['mean', 'median', 'std'])\n",
    "    return summary_stats\n",
    "# Call the function\n",
    "compute_summary_stats(df)"
   ]
  },
  {
   "cell_type": "markdown",
   "id": "4ab1a3f3",
   "metadata": {},
   "source": [
    "# Step 7: Group and Aggregate Data"
   ]
  },
  {
   "cell_type": "code",
   "execution_count": 142,
   "id": "2fd90abb",
   "metadata": {},
   "outputs": [
    {
     "data": {
      "text/html": [
       "<div>\n",
       "<style scoped>\n",
       "    .dataframe tbody tr th:only-of-type {\n",
       "        vertical-align: middle;\n",
       "    }\n",
       "\n",
       "    .dataframe tbody tr th {\n",
       "        vertical-align: top;\n",
       "    }\n",
       "\n",
       "    .dataframe thead th {\n",
       "        text-align: right;\n",
       "    }\n",
       "</style>\n",
       "<table border=\"1\" class=\"dataframe\">\n",
       "  <thead>\n",
       "    <tr style=\"text-align: right;\">\n",
       "      <th></th>\n",
       "      <th>Metabolite</th>\n",
       "      <th>Condition</th>\n",
       "      <th>Concentration</th>\n",
       "    </tr>\n",
       "  </thead>\n",
       "  <tbody>\n",
       "    <tr>\n",
       "      <th>0</th>\n",
       "      <td>Metabolite1</td>\n",
       "      <td>Control</td>\n",
       "      <td>80.324499</td>\n",
       "    </tr>\n",
       "    <tr>\n",
       "      <th>1</th>\n",
       "      <td>Metabolite1</td>\n",
       "      <td>Treatment</td>\n",
       "      <td>74.719990</td>\n",
       "    </tr>\n",
       "    <tr>\n",
       "      <th>2</th>\n",
       "      <td>Metabolite10</td>\n",
       "      <td>Control</td>\n",
       "      <td>62.371444</td>\n",
       "    </tr>\n",
       "    <tr>\n",
       "      <th>3</th>\n",
       "      <td>Metabolite10</td>\n",
       "      <td>Treatment</td>\n",
       "      <td>82.186189</td>\n",
       "    </tr>\n",
       "    <tr>\n",
       "      <th>4</th>\n",
       "      <td>Metabolite2</td>\n",
       "      <td>Control</td>\n",
       "      <td>47.547589</td>\n",
       "    </tr>\n",
       "    <tr>\n",
       "      <th>5</th>\n",
       "      <td>Metabolite2</td>\n",
       "      <td>Treatment</td>\n",
       "      <td>49.955735</td>\n",
       "    </tr>\n",
       "    <tr>\n",
       "      <th>6</th>\n",
       "      <td>Metabolite3</td>\n",
       "      <td>Control</td>\n",
       "      <td>20.091708</td>\n",
       "    </tr>\n",
       "    <tr>\n",
       "      <th>7</th>\n",
       "      <td>Metabolite3</td>\n",
       "      <td>Treatment</td>\n",
       "      <td>43.169796</td>\n",
       "    </tr>\n",
       "    <tr>\n",
       "      <th>8</th>\n",
       "      <td>Metabolite4</td>\n",
       "      <td>Control</td>\n",
       "      <td>51.799399</td>\n",
       "    </tr>\n",
       "    <tr>\n",
       "      <th>9</th>\n",
       "      <td>Metabolite4</td>\n",
       "      <td>Treatment</td>\n",
       "      <td>48.801217</td>\n",
       "    </tr>\n",
       "    <tr>\n",
       "      <th>10</th>\n",
       "      <td>Metabolite5</td>\n",
       "      <td>Control</td>\n",
       "      <td>53.466520</td>\n",
       "    </tr>\n",
       "    <tr>\n",
       "      <th>11</th>\n",
       "      <td>Metabolite5</td>\n",
       "      <td>Treatment</td>\n",
       "      <td>53.651424</td>\n",
       "    </tr>\n",
       "    <tr>\n",
       "      <th>12</th>\n",
       "      <td>Metabolite6</td>\n",
       "      <td>Control</td>\n",
       "      <td>23.607715</td>\n",
       "    </tr>\n",
       "    <tr>\n",
       "      <th>13</th>\n",
       "      <td>Metabolite6</td>\n",
       "      <td>Treatment</td>\n",
       "      <td>27.439738</td>\n",
       "    </tr>\n",
       "    <tr>\n",
       "      <th>14</th>\n",
       "      <td>Metabolite7</td>\n",
       "      <td>Control</td>\n",
       "      <td>108.053252</td>\n",
       "    </tr>\n",
       "    <tr>\n",
       "      <th>15</th>\n",
       "      <td>Metabolite7</td>\n",
       "      <td>Treatment</td>\n",
       "      <td>29.384347</td>\n",
       "    </tr>\n",
       "    <tr>\n",
       "      <th>16</th>\n",
       "      <td>Metabolite8</td>\n",
       "      <td>Control</td>\n",
       "      <td>24.466194</td>\n",
       "    </tr>\n",
       "    <tr>\n",
       "      <th>17</th>\n",
       "      <td>Metabolite8</td>\n",
       "      <td>Treatment</td>\n",
       "      <td>25.168069</td>\n",
       "    </tr>\n",
       "    <tr>\n",
       "      <th>18</th>\n",
       "      <td>Metabolite9</td>\n",
       "      <td>Control</td>\n",
       "      <td>46.215224</td>\n",
       "    </tr>\n",
       "    <tr>\n",
       "      <th>19</th>\n",
       "      <td>Metabolite9</td>\n",
       "      <td>Treatment</td>\n",
       "      <td>43.556830</td>\n",
       "    </tr>\n",
       "  </tbody>\n",
       "</table>\n",
       "</div>"
      ],
      "text/plain": [
       "      Metabolite  Condition  Concentration\n",
       "0    Metabolite1    Control      80.324499\n",
       "1    Metabolite1  Treatment      74.719990\n",
       "2   Metabolite10    Control      62.371444\n",
       "3   Metabolite10  Treatment      82.186189\n",
       "4    Metabolite2    Control      47.547589\n",
       "5    Metabolite2  Treatment      49.955735\n",
       "6    Metabolite3    Control      20.091708\n",
       "7    Metabolite3  Treatment      43.169796\n",
       "8    Metabolite4    Control      51.799399\n",
       "9    Metabolite4  Treatment      48.801217\n",
       "10   Metabolite5    Control      53.466520\n",
       "11   Metabolite5  Treatment      53.651424\n",
       "12   Metabolite6    Control      23.607715\n",
       "13   Metabolite6  Treatment      27.439738\n",
       "14   Metabolite7    Control     108.053252\n",
       "15   Metabolite7  Treatment      29.384347\n",
       "16   Metabolite8    Control      24.466194\n",
       "17   Metabolite8  Treatment      25.168069\n",
       "18   Metabolite9    Control      46.215224\n",
       "19   Metabolite9  Treatment      43.556830"
      ]
     },
     "execution_count": 142,
     "metadata": {},
     "output_type": "execute_result"
    }
   ],
   "source": [
    "# Function to calculate mean concentration\n",
    "def calculate_mean_concentration(df):\n",
    "    # Calculate mean Concentration for each Metabolite and Condition\n",
    "    mean_concentration = df.groupby(['Metabolite', 'Condition'])['Concentration'].mean().reset_index()\n",
    "    return mean_concentration\n",
    "calculate_mean_concentration(df)"
   ]
  },
  {
   "cell_type": "markdown",
   "id": "7ef3f2fe",
   "metadata": {},
   "source": [
    "# Step 8: Visualize the Data"
   ]
  },
  {
   "cell_type": "code",
   "execution_count": 143,
   "id": "57fc7c79",
   "metadata": {},
   "outputs": [
    {
     "data": {
      "image/png": "[encoded data removed]",
      "text/plain": [
       "<Figure size 1200x800 with 1 Axes>"
      ]
     },
     "metadata": {},
     "output_type": "display_data"
    }
   ],
   "source": [
    "import matplotlib.pyplot as plt\n",
    "import seaborn as sns\n",
    "# Function to plot seaborn boxplot\n",
    "def plot_seaborn_boxplot(df):\n",
    "    # Seaborn Boxplot\n",
    "    plt.figure(figsize=(12, 8))\n",
    "    sns.boxplot(x='Metabolite', y='Concentration', data=df)\n",
    "    plt.title('Distribution of Concentration for each Metabolite')\n",
    "    plt.show()\n",
    "# Call the function\n",
    "plot_seaborn_boxplot(df)"
   ]
  },
  {
   "cell_type": "code",
   "execution_count": 149,
   "id": "837287b3",
   "metadata": {},
   "outputs": [
    {
     "data": {
      "image/png": "[encoded data removed]",
      "text/plain": [
       "<Figure size 1400x800 with 1 Axes>"
      ]
     },
     "metadata": {},
     "output_type": "display_data"
    }
   ],
   "source": [
    "# Function to plot matplotlib bar plot\n",
    "mean_df = calculate_mean_concentration(df)\n",
    "def plot_matplotlib_bar_plot(mean_concentration):\n",
    "    # Matplotlib Bar Plot\n",
    "    plt.figure(figsize=(14, 8))\n",
    "    for condition in mean_concentration['Condition'].unique():\n",
    "        condition_df = mean_concentration[mean_concentration['Condition'] == condition]\n",
    "        plt.bar(condition_df['Metabolite'], condition_df['Concentration'], label=condition)\n",
    "    plt.xlabel('Metabolite')\n",
    "    plt.ylabel('Mean Concentration')\n",
    "    plt.title('Mean Concentration for each Metabolite under different Conditions')\n",
    "    plt.legend()\n",
    "    plt.show()\n",
    "plot_matplotlib_bar_plot(mean_df)"
   ]
  },
  {
   "cell_type": "code",
   "execution_count": 150,
   "id": "b694f0a0",
   "metadata": {},
   "outputs": [
    {
     "data": {
      "application/vnd.plotly.v1+json": {
       "config": {
        "plotlyServerURL": "https://plot.ly"
       },
       "data": [
        {
         "hovertemplate": "Condition=Control<br>Replicate=%{x}<br>Concentration=%{y}<extra></extra>",
         "legendgroup": "Control",
         "line": {
          "color": "#636efa",
          "dash": "solid"
         },
         "marker": {
          "symbol": "circle"
         },
         "mode": "lines",
         "name": "Control",
         "orientation": "v",
         "showlegend": true,
         "type": "scatter",
         "x": {
          "bdata": "AQIDBAU=",
          "dtype": "i1"
         },
         "xaxis": "x",
         "y": {
          "bdata": "KHg51gASVEDDLTDMHCpVQFix6VjQ91JAVPI3sdH3UkCJFT1OFzxVQA==",
          "dtype": "f8"
         },
         "yaxis": "y"
        },
        {
         "hovertemplate": "Condition=Treatment<br>Replicate=%{x}<br>Concentration=%{y}<extra></extra>",
         "legendgroup": "Treatment",
         "line": {
          "color": "#EF553B",
          "dash": "solid"
         },
         "marker": {
          "symbol": "circle"
         },
         "mode": "lines",
         "name": "Treatment",
         "orientation": "v",
         "showlegend": true,
         "type": "scatter",
         "x": {
          "bdata": "AQIDBAU=",
          "dtype": "i1"
         },
         "xaxis": "x",
         "y": {
          "bdata": "XHD3TxSuUkBccPdPFK5SQFxw908UrlJA70auA3OuUkDImUCcta1SQA==",
          "dtype": "f8"
         },
         "yaxis": "y"
        }
       ],
       "layout": {
        "legend": {
         "title": {
          "text": "Condition"
         },
         "tracegroupgap": 0
        },
        "template": {
         "data": {
          "bar": [
           {
            "error_x": {
             "color": "#2a3f5f"
            },
            "error_y": {
             "color": "#2a3f5f"
            },
            "marker": {
             "line": {
              "color": "#E5ECF6",
              "width": 0.5
             },
             "pattern": {
              "fillmode": "overlay",
              "size": 10,
              "solidity": 0.2
             }
            },
            "type": "bar"
           }
          ],
          "barpolar": [
           {
            "marker": {
             "line": {
              "color": "#E5ECF6",
              "width": 0.5
             },
             "pattern": {
              "fillmode": "overlay",
              "size": 10,
              "solidity": 0.2
             }
            },
            "type": "barpolar"
           }
          ],
          "carpet": [
           {
            "aaxis": {
             "endlinecolor": "#2a3f5f",
             "gridcolor": "white",
             "linecolor": "white",
             "minorgridcolor": "white",
             "startlinecolor": "#2a3f5f"
            },
            "baxis": {
             "endlinecolor": "#2a3f5f",
             "gridcolor": "white",
             "linecolor": "white",
             "minorgridcolor": "white",
             "startlinecolor": "#2a3f5f"
            },
            "type": "carpet"
           }
          ],
          "choropleth": [
           {
            "colorbar": {
             "outlinewidth": 0,
             "ticks": ""
            },
            "type": "choropleth"
           }
          ],
          "contour": [
           {
            "colorbar": {
             "outlinewidth": 0,
             "ticks": ""
            },
            "colorscale": [
             [
              0,
              "#0d0887"
             ],
             [
              0.1111111111111111,
              "#46039f"
             ],
             [
              0.2222222222222222,
              "#7201a8"
             ],
             [
              0.3333333333333333,
              "#9c179e"
             ],
             [
              0.4444444444444444,
              "#bd3786"
             ],
             [
              0.5555555555555556,
              "#d8576b"
             ],
             [
              0.6666666666666666,
              "#ed7953"
             ],
             [
              0.7777777777777778,
              "#fb9f3a"
             ],
             [
              0.8888888888888888,
              "#fdca26"
             ],
             [
              1,
              "#f0f921"
             ]
            ],
            "type": "contour"
           }
          ],
          "contourcarpet": [
           {
            "colorbar": {
             "outlinewidth": 0,
             "ticks": ""
            },
            "type": "contourcarpet"
           }
          ],
          "heatmap": [
           {
            "colorbar": {
             "outlinewidth": 0,
             "ticks": ""
            },
            "colorscale": [
             [
              0,
              "#0d0887"
             ],
             [
              0.1111111111111111,
              "#46039f"
             ],
             [
              0.2222222222222222,
              "#7201a8"
             ],
             [
              0.3333333333333333,
              "#9c179e"
             ],
             [
              0.4444444444444444,
              "#bd3786"
             ],
             [
              0.5555555555555556,
              "#d8576b"
             ],
             [
              0.6666666666666666,
              "#ed7953"
             ],
             [
              0.7777777777777778,
              "#fb9f3a"
             ],
             [
              0.8888888888888888,
              "#fdca26"
             ],
             [
              1,
              "#f0f921"
             ]
            ],
            "type": "heatmap"
           }
          ],
          "histogram": [
           {
            "marker": {
             "pattern": {
              "fillmode": "overlay",
              "size": 10,
              "solidity": 0.2
             }
            },
            "type": "histogram"
           }
          ],
          "histogram2d": [
           {
            "colorbar": {
             "outlinewidth": 0,
             "ticks": ""
            },
            "colorscale": [
             [
              0,
              "#0d0887"
             ],
             [
              0.1111111111111111,
              "#46039f"
             ],
             [
              0.2222222222222222,
              "#7201a8"
             ],
             [
              0.3333333333333333,
              "#9c179e"
             ],
             [
              0.4444444444444444,
              "#bd3786"
             ],
             [
              0.5555555555555556,
              "#d8576b"
             ],
             [
              0.6666666666666666,
              "#ed7953"
             ],
             [
              0.7777777777777778,
              "#fb9f3a"
             ],
             [
              0.8888888888888888,
              "#fdca26"
             ],
             [
              1,
              "#f0f921"
             ]
            ],
            "type": "histogram2d"
           }
          ],
          "histogram2dcontour": [
           {
            "colorbar": {
             "outlinewidth": 0,
             "ticks": ""
            },
            "colorscale": [
             [
              0,
              "#0d0887"
             ],
             [
              0.1111111111111111,
              "#46039f"
             ],
             [
              0.2222222222222222,
              "#7201a8"
             ],
             [
              0.3333333333333333,
              "#9c179e"
             ],
             [
              0.4444444444444444,
              "#bd3786"
             ],
             [
              0.5555555555555556,
              "#d8576b"
             ],
             [
              0.6666666666666666,
              "#ed7953"
             ],
             [
              0.7777777777777778,
              "#fb9f3a"
             ],
             [
              0.8888888888888888,
              "#fdca26"
             ],
             [
              1,
              "#f0f921"
             ]
            ],
            "type": "histogram2dcontour"
           }
          ],
          "mesh3d": [
           {
            "colorbar": {
             "outlinewidth": 0,
             "ticks": ""
            },
            "type": "mesh3d"
           }
          ],
          "parcoords": [
           {
            "line": {
             "colorbar": {
              "outlinewidth": 0,
              "ticks": ""
             }
            },
            "type": "parcoords"
           }
          ],
          "pie": [
           {
            "automargin": true,
            "type": "pie"
           }
          ],
          "scatter": [
           {
            "fillpattern": {
             "fillmode": "overlay",
             "size": 10,
             "solidity": 0.2
            },
            "type": "scatter"
           }
          ],
          "scatter3d": [
           {
            "line": {
             "colorbar": {
              "outlinewidth": 0,
              "ticks": ""
             }
            },
            "marker": {
             "colorbar": {
              "outlinewidth": 0,
              "ticks": ""
             }
            },
            "type": "scatter3d"
           }
          ],
          "scattercarpet": [
           {
            "marker": {
             "colorbar": {
              "outlinewidth": 0,
              "ticks": ""
             }
            },
            "type": "scattercarpet"
           }
          ],
          "scattergeo": [
           {
            "marker": {
             "colorbar": {
              "outlinewidth": 0,
              "ticks": ""
             }
            },
            "type": "scattergeo"
           }
          ],
          "scattergl": [
           {
            "marker": {
             "colorbar": {
              "outlinewidth": 0,
              "ticks": ""
             }
            },
            "type": "scattergl"
           }
          ],
          "scattermap": [
           {
            "marker": {
             "colorbar": {
              "outlinewidth": 0,
              "ticks": ""
             }
            },
            "type": "scattermap"
           }
          ],
          "scattermapbox": [
           {
            "marker": {
             "colorbar": {
              "outlinewidth": 0,
              "ticks": ""
             }
            },
            "type": "scattermapbox"
           }
          ],
          "scatterpolar": [
           {
            "marker": {
             "colorbar": {
              "outlinewidth": 0,
              "ticks": ""
             }
            },
            "type": "scatterpolar"
           }
          ],
          "scatterpolargl": [
           {
            "marker": {
             "colorbar": {
              "outlinewidth": 0,
              "ticks": ""
             }
            },
            "type": "scatterpolargl"
           }
          ],
          "scatterternary": [
           {
            "marker": {
             "colorbar": {
              "outlinewidth": 0,
              "ticks": ""
             }
            },
            "type": "scatterternary"
           }
          ],
          "surface": [
           {
            "colorbar": {
             "outlinewidth": 0,
             "ticks": ""
            },
            "colorscale": [
             [
              0,
              "#0d0887"
             ],
             [
              0.1111111111111111,
              "#46039f"
             ],
             [
              0.2222222222222222,
              "#7201a8"
             ],
             [
              0.3333333333333333,
              "#9c179e"
             ],
             [
              0.4444444444444444,
              "#bd3786"
             ],
             [
              0.5555555555555556,
              "#d8576b"
             ],
             [
              0.6666666666666666,
              "#ed7953"
             ],
             [
              0.7777777777777778,
              "#fb9f3a"
             ],
             [
              0.8888888888888888,
              "#fdca26"
             ],
             [
              1,
              "#f0f921"
             ]
            ],
            "type": "surface"
           }
          ],
          "table": [
           {
            "cells": {
             "fill": {
              "color": "#EBF0F8"
             },
             "line": {
              "color": "white"
             }
            },
            "header": {
             "fill": {
              "color": "#C8D4E3"
             },
             "line": {
              "color": "white"
             }
            },
            "type": "table"
           }
          ]
         },
         "layout": {
          "annotationdefaults": {
           "arrowcolor": "#2a3f5f",
           "arrowhead": 0,
           "arrowwidth": 1
          },
          "autotypenumbers": "strict",
          "coloraxis": {
           "colorbar": {
            "outlinewidth": 0,
            "ticks": ""
           }
          },
          "colorscale": {
           "diverging": [
            [
             0,
             "#8e0152"
            ],
            [
             0.1,
             "#c51b7d"
            ],
            [
             0.2,
             "#de77ae"
            ],
            [
             0.3,
             "#f1b6da"
            ],
            [
             0.4,
             "#fde0ef"
            ],
            [
             0.5,
             "#f7f7f7"
            ],
            [
             0.6,
             "#e6f5d0"
            ],
            [
             0.7,
             "#b8e186"
            ],
            [
             0.8,
             "#7fbc41"
            ],
            [
             0.9,
             "#4d9221"
            ],
            [
             1,
             "#276419"
            ]
           ],
           "sequential": [
            [
             0,
             "#0d0887"
            ],
            [
             0.1111111111111111,
             "#46039f"
            ],
            [
             0.2222222222222222,
             "#7201a8"
            ],
            [
             0.3333333333333333,
             "#9c179e"
            ],
            [
             0.4444444444444444,
             "#bd3786"
            ],
            [
             0.5555555555555556,
             "#d8576b"
            ],
            [
             0.6666666666666666,
             "#ed7953"
            ],
            [
             0.7777777777777778,
             "#fb9f3a"
            ],
            [
             0.8888888888888888,
             "#fdca26"
            ],
            [
             1,
             "#f0f921"
            ]
           ],
           "sequentialminus": [
            [
             0,
             "#0d0887"
            ],
            [
             0.1111111111111111,
             "#46039f"
            ],
            [
             0.2222222222222222,
             "#7201a8"
            ],
            [
             0.3333333333333333,
             "#9c179e"
            ],
            [
             0.4444444444444444,
             "#bd3786"
            ],
            [
             0.5555555555555556,
             "#d8576b"
            ],
            [
             0.6666666666666666,
             "#ed7953"
            ],
            [
             0.7777777777777778,
             "#fb9f3a"
            ],
            [
             0.8888888888888888,
             "#fdca26"
            ],
            [
             1,
             "#f0f921"
            ]
           ]
          },
          "colorway": [
           "#636efa",
           "#EF553B",
           "#00cc96",
           "#ab63fa",
           "#FFA15A",
           "#19d3f3",
           "#FF6692",
           "#B6E880",
           "#FF97FF",
           "#FECB52"
          ],
          "font": {
           "color": "#2a3f5f"
          },
          "geo": {
           "bgcolor": "white",
           "lakecolor": "white",
           "landcolor": "#E5ECF6",
           "showlakes": true,
           "showland": true,
           "subunitcolor": "white"
          },
          "hoverlabel": {
           "align": "left"
          },
          "hovermode": "closest",
          "mapbox": {
           "style": "light"
          },
          "paper_bgcolor": "white",
          "plot_bgcolor": "#E5ECF6",
          "polar": {
           "angularaxis": {
            "gridcolor": "white",
            "linecolor": "white",
            "ticks": ""
           },
           "bgcolor": "#E5ECF6",
           "radialaxis": {
            "gridcolor": "white",
            "linecolor": "white",
            "ticks": ""
           }
          },
          "scene": {
           "xaxis": {
            "backgroundcolor": "#E5ECF6",
            "gridcolor": "white",
            "gridwidth": 2,
            "linecolor": "white",
            "showbackground": true,
            "ticks": "",
            "zerolinecolor": "white"
           },
           "yaxis": {
            "backgroundcolor": "#E5ECF6",
            "gridcolor": "white",
            "gridwidth": 2,
            "linecolor": "white",
            "showbackground": true,
            "ticks": "",
            "zerolinecolor": "white"
           },
           "zaxis": {
            "backgroundcolor": "#E5ECF6",
            "gridcolor": "white",
            "gridwidth": 2,
            "linecolor": "white",
            "showbackground": true,
            "ticks": "",
            "zerolinecolor": "white"
           }
          },
          "shapedefaults": {
           "line": {
            "color": "#2a3f5f"
           }
          },
          "ternary": {
           "aaxis": {
            "gridcolor": "white",
            "linecolor": "white",
            "ticks": ""
           },
           "baxis": {
            "gridcolor": "white",
            "linecolor": "white",
            "ticks": ""
           },
           "bgcolor": "#E5ECF6",
           "caxis": {
            "gridcolor": "white",
            "linecolor": "white",
            "ticks": ""
           }
          },
          "title": {
           "x": 0.05
          },
          "xaxis": {
           "automargin": true,
           "gridcolor": "white",
           "linecolor": "white",
           "ticks": "",
           "title": {
            "standoff": 15
           },
           "zerolinecolor": "white",
           "zerolinewidth": 2
          },
          "yaxis": {
           "automargin": true,
           "gridcolor": "white",
           "linecolor": "white",
           "ticks": "",
           "title": {
            "standoff": 15
           },
           "zerolinecolor": "white",
           "zerolinewidth": 2
          }
         }
        },
        "title": {
         "text": "Concentration Trends for Metabolite1"
        },
        "xaxis": {
         "anchor": "y",
         "domain": [
          0,
          1
         ],
         "title": {
          "text": "Replicate"
         }
        },
        "yaxis": {
         "anchor": "x",
         "domain": [
          0,
          1
         ],
         "title": {
          "text": "Concentration"
         }
        }
       }
      }
     },
     "metadata": {},
     "output_type": "display_data"
    }
   ],
   "source": [
    "import plotly.express as px\n",
    "# Function to plot plotly interactive line plot\n",
    "def plot_plotly_interactive_line_plot(df):\n",
    "    # Plotly Interactive Line Plot\n",
    "    metabolite = df['Metabolite'].unique()[0]  # Select a specific Metabolite\n",
    "    metabolite_df = df[df['Metabolite'] == metabolite]\n",
    "    fig = px.line(metabolite_df, x='Replicate', y='Concentration', color='Condition', title=f'Concentration Trends for {metabolite}')\n",
    "    fig.show()\n",
    "plot_plotly_interactive_line_plot(df)"
   ]
  }
 ],
 "metadata": {
  "kernelspec": {
   "display_name": "Python 3",
   "language": "python",
   "name": "python3"
  },
  "language_info": {
   "codemirror_mode": {
    "name": "ipython",
    "version": 3
   },
   "file_extension": ".py",
   "mimetype": "text/x-python",
   "name": "python",
   "nbconvert_exporter": "python",
   "pygments_lexer": "ipython3",
   "version": "3.11.9"
  }
 },
 "nbformat": 4,
 "nbformat_minor": 5
}
